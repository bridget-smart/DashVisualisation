{
 "cells": [
  {
   "cell_type": "code",
   "execution_count": 2,
   "metadata": {},
   "outputs": [
    {
     "name": "stdout",
     "output_type": "stream",
     "text": [
      "/Users/bridgetsmart/Documents/GitHub/AustralianInformationLandscape\n"
     ]
    }
   ],
   "source": [
    "\"\"\"\n",
    "Preamble for most code and jupyter notebooks\n",
    "@author: bridgetsmart\n",
    "@notebook date: 22 Aug 2023\n",
    "\"\"\"\n",
    "\n",
    "import numpy as np, pandas as pd\n",
    "\n",
    "import matplotlib.pyplot as plt, seaborn as sns\n",
    "import matplotlib as mpl\n",
    "\n",
    "import math, string, re, pickle, json, time, os, sys, datetime, itertools\n",
    "\n",
    "from tqdm.notebook import tqdm\n",
    "\n",
    "%cd ..\n",
    "from AUNewsPoliticsDatasetTwitter.load_data import load_data\n",
    "from collections.abc import Iterable\n",
    "\n",
    "# need a function to flatten irregular list of lists\n",
    "def flatten(xs):\n",
    "    for x in xs:\n",
    "        if isinstance(x, Iterable) and not isinstance(x, (str, bytes)):\n",
    "            yield from flatten(x)\n",
    "        else:\n",
    "            yield x"
   ]
  },
  {
   "cell_type": "markdown",
   "metadata": {},
   "source": [
    "## When I say 'sample data', I really mean the old data before I double checked all processing and added the extra tweets."
   ]
  },
  {
   "cell_type": "code",
   "execution_count": 2,
   "metadata": {},
   "outputs": [
    {
     "name": "stdout",
     "output_type": "stream",
     "text": [
      "Expect to wait around 7-8 minutes...\n"
     ]
    }
   ],
   "source": [
    "# load in existing data\n",
    "# account classifications\n",
    "account_classifications = load_data(selection=6, liwc_logical = False)\n",
    "\n",
    "# HoR user details\n",
    "HoRUsers = load_data(selection=5, liwc_logical = False)\n",
    "\n",
    "# 2022 HoR Following\n",
    "HoR2022Following = load_data(selection=4, liwc_logical = False)\n",
    "\n",
    "# tweets\n",
    "all_tweets = load_data(selection=1, liwc_logical = False)\n"
   ]
  },
  {
   "cell_type": "code",
   "execution_count": 19,
   "metadata": {},
   "outputs": [],
   "source": [
    "tweets = load_data()"
   ]
  },
  {
   "cell_type": "code",
   "execution_count": 21,
   "metadata": {},
   "outputs": [
    {
     "data": {
      "text/plain": [
       "Index(['lang', 'text', 'tokenised_text', 'id', 'author_id', 'created_at',\n",
       "       'mentions', 'urls', 'hashtags', 'referenced_tweets', 'retweet_count',\n",
       "       'reply_count', 'like_count', 'quote_count', 'preprocessed_text',\n",
       "       'neg_sentiment', 'neutral_sentiment', 'positive_sentiment',\n",
       "       'compound_sentiment', 'twitter_handle', 'account_type'],\n",
       "      dtype='object')"
      ]
     },
     "execution_count": 21,
     "metadata": {},
     "output_type": "execute_result"
    }
   ],
   "source": [
    "tweets.columns"
   ]
  },
  {
   "cell_type": "code",
   "execution_count": 2,
   "metadata": {},
   "outputs": [
    {
     "name": "stdout",
     "output_type": "stream",
     "text": [
      "/Users/bridgetsmart/Documents/GitHub/AustralianInformationLandscape/DashVisualisation\n"
     ]
    }
   ],
   "source": [
    "%cd DashVisualisation"
   ]
  },
  {
   "cell_type": "code",
   "execution_count": 3,
   "metadata": {},
   "outputs": [],
   "source": [
    "# Let's add in something else\n",
    "news_availability = pd.read_csv('/Users/bridgetsmart/Documents/GitHub/AustralianInformationLandscape/Data/Australian News Index (PIJI) Producers.csv')"
   ]
  },
  {
   "cell_type": "code",
   "execution_count": 4,
   "metadata": {},
   "outputs": [],
   "source": [
    "lga = list(flatten([x.split(';') if type(x)==str else x for x in news_availability.lga_coverage.values]))\n",
    "lga = list(set(lga))"
   ]
  },
  {
   "cell_type": "code",
   "execution_count": 5,
   "metadata": {},
   "outputs": [
    {
     "data": {
      "text/plain": [
       "550"
      ]
     },
     "execution_count": 5,
     "metadata": {},
     "output_type": "execute_result"
    }
   ],
   "source": [
    "len(list(set(lga)))"
   ]
  },
  {
   "cell_type": "code",
   "execution_count": 7,
   "metadata": {},
   "outputs": [],
   "source": [
    "# Sources: https://www.aec.gov.au/profiles/files/2022/division-finder-sa.pdf (for each state)\n",
    "\n",
    "# lga_federal_div = np.load(\"lga_federal_div.npy\", allow_pickle=True)\n",
    "\n",
    "with open('geospatialdata/lga_federal_div.json','r') as f:\n",
    "    lga_federal_div = json.load(f)"
   ]
  },
  {
   "cell_type": "code",
   "execution_count": null,
   "metadata": {},
   "outputs": [],
   "source": [
    "## explore out lga coverage"
   ]
  },
  {
   "cell_type": "code",
   "execution_count": 9,
   "metadata": {},
   "outputs": [],
   "source": [
    "def get_fed_div(x):\n",
    "    try:\n",
    "        return list(set(flatten([lga_federal_div[y] for y in x.split(\";\")])))\n",
    "    except:\n",
    "        return x"
   ]
  },
  {
   "cell_type": "code",
   "execution_count": 10,
   "metadata": {},
   "outputs": [],
   "source": [
    "news_availability['federal_division'] = news_availability.lga_coverage.apply(get_fed_div)"
   ]
  },
  {
   "cell_type": "markdown",
   "metadata": {},
   "source": [
    "# setting up electorate data"
   ]
  },
  {
   "cell_type": "code",
   "execution_count": 16,
   "metadata": {},
   "outputs": [],
   "source": [
    "electorate_data = pd.read_csv('/Users/bridgetsmart/Documents/GitHub/AustralianInformationLandscape/Data/commonwealth electorate data.csv')"
   ]
  },
  {
   "cell_type": "markdown",
   "metadata": {},
   "source": [
    "# sample information flow data"
   ]
  },
  {
   "cell_type": "code",
   "execution_count": 4,
   "metadata": {},
   "outputs": [],
   "source": [
    "net_flows = pd.read_csv('/Users/bridgetsmart/Documents/Python/Russian Trolls_Apr 2022/data/fivethirtyeight_Russia_bots_information_flow.csv')"
   ]
  },
  {
   "cell_type": "code",
   "execution_count": null,
   "metadata": {},
   "outputs": [],
   "source": []
  },
  {
   "cell_type": "code",
   "execution_count": 5,
   "metadata": {},
   "outputs": [
    {
     "data": {
      "text/html": [
       "<div>\n",
       "<style scoped>\n",
       "    .dataframe tbody tr th:only-of-type {\n",
       "        vertical-align: middle;\n",
       "    }\n",
       "\n",
       "    .dataframe tbody tr th {\n",
       "        vertical-align: top;\n",
       "    }\n",
       "\n",
       "    .dataframe thead th {\n",
       "        text-align: right;\n",
       "    }\n",
       "</style>\n",
       "<table border=\"1\" class=\"dataframe\">\n",
       "  <thead>\n",
       "    <tr style=\"text-align: right;\">\n",
       "      <th></th>\n",
       "      <th>source</th>\n",
       "      <th>target</th>\n",
       "      <th>net_information_flow</th>\n",
       "      <th>net_shannon_flow</th>\n",
       "      <th>forward_cross_entropy_rate</th>\n",
       "      <th>backward_cross_entropy_rate</th>\n",
       "      <th>forward_shannon_cross</th>\n",
       "      <th>backward_shannon_cross</th>\n",
       "    </tr>\n",
       "  </thead>\n",
       "  <tbody>\n",
       "    <tr>\n",
       "      <th>0</th>\n",
       "      <td>VEROSANRRT</td>\n",
       "      <td>THEFOUNDINGSON</td>\n",
       "      <td>0.553476</td>\n",
       "      <td>0.017550</td>\n",
       "      <td>13.540496</td>\n",
       "      <td>7.805770</td>\n",
       "      <td>8.675281</td>\n",
       "      <td>8.657731</td>\n",
       "    </tr>\n",
       "    <tr>\n",
       "      <th>1</th>\n",
       "      <td>VEROSANRRT</td>\n",
       "      <td>USA_GUNSLINGER</td>\n",
       "      <td>0.551629</td>\n",
       "      <td>-0.296435</td>\n",
       "      <td>13.164866</td>\n",
       "      <td>7.410741</td>\n",
       "      <td>8.222540</td>\n",
       "      <td>8.518975</td>\n",
       "    </tr>\n",
       "    <tr>\n",
       "      <th>2</th>\n",
       "      <td>VEROSANRRT</td>\n",
       "      <td>KARENPARKER93</td>\n",
       "      <td>0.616116</td>\n",
       "      <td>0.488848</td>\n",
       "      <td>15.013628</td>\n",
       "      <td>7.601368</td>\n",
       "      <td>8.624982</td>\n",
       "      <td>8.136134</td>\n",
       "    </tr>\n",
       "    <tr>\n",
       "      <th>3</th>\n",
       "      <td>VEROSANRRT</td>\n",
       "      <td>ANNIEPOSHES</td>\n",
       "      <td>0.588456</td>\n",
       "      <td>0.157617</td>\n",
       "      <td>15.013628</td>\n",
       "      <td>7.944315</td>\n",
       "      <td>7.345372</td>\n",
       "      <td>7.187755</td>\n",
       "    </tr>\n",
       "    <tr>\n",
       "      <th>4</th>\n",
       "      <td>VEROSANRRT</td>\n",
       "      <td>CORNELLBURCHET</td>\n",
       "      <td>0.569696</td>\n",
       "      <td>0.675887</td>\n",
       "      <td>14.701180</td>\n",
       "      <td>7.793867</td>\n",
       "      <td>8.242399</td>\n",
       "      <td>7.566512</td>\n",
       "    </tr>\n",
       "    <tr>\n",
       "      <th>...</th>\n",
       "      <td>...</td>\n",
       "      <td>...</td>\n",
       "      <td>...</td>\n",
       "      <td>...</td>\n",
       "      <td>...</td>\n",
       "      <td>...</td>\n",
       "      <td>...</td>\n",
       "      <td>...</td>\n",
       "    </tr>\n",
       "    <tr>\n",
       "      <th>97898</th>\n",
       "      <td>SOUTHLONESTAR</td>\n",
       "      <td>PUREDAVIE</td>\n",
       "      <td>0.093185</td>\n",
       "      <td>0.368510</td>\n",
       "      <td>9.110186</td>\n",
       "      <td>7.892037</td>\n",
       "      <td>7.832971</td>\n",
       "      <td>7.464461</td>\n",
       "    </tr>\n",
       "    <tr>\n",
       "      <th>97899</th>\n",
       "      <td>SOUTHLONESTAR</td>\n",
       "      <td>JOTEFOKIS</td>\n",
       "      <td>0.239341</td>\n",
       "      <td>-1.050157</td>\n",
       "      <td>10.615711</td>\n",
       "      <td>6.818601</td>\n",
       "      <td>7.191708</td>\n",
       "      <td>8.241865</td>\n",
       "    </tr>\n",
       "    <tr>\n",
       "      <th>97900</th>\n",
       "      <td>SOUTHLONESTAR</td>\n",
       "      <td>J0HNLARSEN</td>\n",
       "      <td>0.065053</td>\n",
       "      <td>1.268940</td>\n",
       "      <td>8.294708</td>\n",
       "      <td>7.532066</td>\n",
       "      <td>9.636255</td>\n",
       "      <td>8.367315</td>\n",
       "    </tr>\n",
       "    <tr>\n",
       "      <th>97901</th>\n",
       "      <td>SOUTHLONESTAR</td>\n",
       "      <td>CLAYPAIGEBOO</td>\n",
       "      <td>0.045241</td>\n",
       "      <td>-0.724081</td>\n",
       "      <td>8.453541</td>\n",
       "      <td>7.801716</td>\n",
       "      <td>7.245596</td>\n",
       "      <td>7.969678</td>\n",
       "    </tr>\n",
       "    <tr>\n",
       "      <th>97902</th>\n",
       "      <td>SOUTHLONESTAR</td>\n",
       "      <td>CLYDEDAWS0N</td>\n",
       "      <td>0.357512</td>\n",
       "      <td>-0.102776</td>\n",
       "      <td>12.814499</td>\n",
       "      <td>6.902972</td>\n",
       "      <td>8.089404</td>\n",
       "      <td>8.192180</td>\n",
       "    </tr>\n",
       "  </tbody>\n",
       "</table>\n",
       "<p>97903 rows × 8 columns</p>\n",
       "</div>"
      ],
      "text/plain": [
       "              source          target  net_information_flow  net_shannon_flow  \\\n",
       "0         VEROSANRRT  THEFOUNDINGSON              0.553476          0.017550   \n",
       "1         VEROSANRRT  USA_GUNSLINGER              0.551629         -0.296435   \n",
       "2         VEROSANRRT   KARENPARKER93              0.616116          0.488848   \n",
       "3         VEROSANRRT     ANNIEPOSHES              0.588456          0.157617   \n",
       "4         VEROSANRRT  CORNELLBURCHET              0.569696          0.675887   \n",
       "...              ...             ...                   ...               ...   \n",
       "97898  SOUTHLONESTAR       PUREDAVIE              0.093185          0.368510   \n",
       "97899  SOUTHLONESTAR       JOTEFOKIS              0.239341         -1.050157   \n",
       "97900  SOUTHLONESTAR      J0HNLARSEN              0.065053          1.268940   \n",
       "97901  SOUTHLONESTAR    CLAYPAIGEBOO              0.045241         -0.724081   \n",
       "97902  SOUTHLONESTAR     CLYDEDAWS0N              0.357512         -0.102776   \n",
       "\n",
       "       forward_cross_entropy_rate  backward_cross_entropy_rate  \\\n",
       "0                       13.540496                     7.805770   \n",
       "1                       13.164866                     7.410741   \n",
       "2                       15.013628                     7.601368   \n",
       "3                       15.013628                     7.944315   \n",
       "4                       14.701180                     7.793867   \n",
       "...                           ...                          ...   \n",
       "97898                    9.110186                     7.892037   \n",
       "97899                   10.615711                     6.818601   \n",
       "97900                    8.294708                     7.532066   \n",
       "97901                    8.453541                     7.801716   \n",
       "97902                   12.814499                     6.902972   \n",
       "\n",
       "       forward_shannon_cross  backward_shannon_cross  \n",
       "0                   8.675281                8.657731  \n",
       "1                   8.222540                8.518975  \n",
       "2                   8.624982                8.136134  \n",
       "3                   7.345372                7.187755  \n",
       "4                   8.242399                7.566512  \n",
       "...                      ...                     ...  \n",
       "97898               7.832971                7.464461  \n",
       "97899               7.191708                8.241865  \n",
       "97900               9.636255                8.367315  \n",
       "97901               7.245596                7.969678  \n",
       "97902               8.089404                8.192180  \n",
       "\n",
       "[97903 rows x 8 columns]"
      ]
     },
     "execution_count": 5,
     "metadata": {},
     "output_type": "execute_result"
    }
   ],
   "source": [
    "net_flows"
   ]
  },
  {
   "cell_type": "code",
   "execution_count": 6,
   "metadata": {},
   "outputs": [],
   "source": [
    "handles_hor = HoRUsers['Twitter Handle'].unique()"
   ]
  },
  {
   "cell_type": "code",
   "execution_count": 15,
   "metadata": {},
   "outputs": [],
   "source": [
    "# create generic list of 150 handles\n",
    "handles = [f'handle{i}' for i in range(150)]"
   ]
  },
  {
   "cell_type": "code",
   "execution_count": 17,
   "metadata": {},
   "outputs": [],
   "source": [
    "# make a samlpe net flow matrix with the sources and targets as the handles with a random net flow drawn from a exponential distribution\n",
    "choose_2 = list(itertools.combinations(handles, 2))\n",
    "\n",
    "# create net flows\n",
    "net_flows = pd.DataFrame(choose_2, columns = ['source', 'target'])\n",
    "\n",
    "for comb in choose_2:\n",
    "    net_flows.loc[(net_flows['source'] == comb[0]) & (net_flows['target'] == comb[1]), 'net_flow'] = np.random.exponential(1)\n",
    "\n",
    "    # add a flow for each year\n",
    "    for year in range(2014, 2022):\n",
    "        net_flows.loc[(net_flows['source'] == comb[0]) & (net_flows['target'] == comb[1]), f'net_flow_{year}'] = np.random.exponential(0.6)"
   ]
  },
  {
   "cell_type": "code",
   "execution_count": 18,
   "metadata": {},
   "outputs": [
    {
     "data": {
      "text/html": [
       "<div>\n",
       "<style scoped>\n",
       "    .dataframe tbody tr th:only-of-type {\n",
       "        vertical-align: middle;\n",
       "    }\n",
       "\n",
       "    .dataframe tbody tr th {\n",
       "        vertical-align: top;\n",
       "    }\n",
       "\n",
       "    .dataframe thead th {\n",
       "        text-align: right;\n",
       "    }\n",
       "</style>\n",
       "<table border=\"1\" class=\"dataframe\">\n",
       "  <thead>\n",
       "    <tr style=\"text-align: right;\">\n",
       "      <th></th>\n",
       "      <th>source</th>\n",
       "      <th>target</th>\n",
       "      <th>net_flow</th>\n",
       "      <th>net_flow_2014</th>\n",
       "      <th>net_flow_2015</th>\n",
       "      <th>net_flow_2016</th>\n",
       "      <th>net_flow_2017</th>\n",
       "      <th>net_flow_2018</th>\n",
       "      <th>net_flow_2019</th>\n",
       "      <th>net_flow_2020</th>\n",
       "      <th>net_flow_2021</th>\n",
       "    </tr>\n",
       "  </thead>\n",
       "  <tbody>\n",
       "    <tr>\n",
       "      <th>0</th>\n",
       "      <td>handle0</td>\n",
       "      <td>handle1</td>\n",
       "      <td>0.004030</td>\n",
       "      <td>0.254405</td>\n",
       "      <td>0.042278</td>\n",
       "      <td>0.066539</td>\n",
       "      <td>0.104262</td>\n",
       "      <td>0.020424</td>\n",
       "      <td>0.172935</td>\n",
       "      <td>0.004668</td>\n",
       "      <td>0.003962</td>\n",
       "    </tr>\n",
       "    <tr>\n",
       "      <th>1</th>\n",
       "      <td>handle0</td>\n",
       "      <td>handle2</td>\n",
       "      <td>0.073348</td>\n",
       "      <td>0.045604</td>\n",
       "      <td>0.194916</td>\n",
       "      <td>0.157744</td>\n",
       "      <td>0.089185</td>\n",
       "      <td>0.007550</td>\n",
       "      <td>0.270217</td>\n",
       "      <td>0.038404</td>\n",
       "      <td>0.067318</td>\n",
       "    </tr>\n",
       "    <tr>\n",
       "      <th>2</th>\n",
       "      <td>handle0</td>\n",
       "      <td>handle3</td>\n",
       "      <td>0.080422</td>\n",
       "      <td>0.359101</td>\n",
       "      <td>0.018787</td>\n",
       "      <td>0.025379</td>\n",
       "      <td>0.197707</td>\n",
       "      <td>0.074810</td>\n",
       "      <td>0.019069</td>\n",
       "      <td>0.302948</td>\n",
       "      <td>0.000444</td>\n",
       "    </tr>\n",
       "    <tr>\n",
       "      <th>3</th>\n",
       "      <td>handle0</td>\n",
       "      <td>handle4</td>\n",
       "      <td>0.014711</td>\n",
       "      <td>0.357103</td>\n",
       "      <td>0.018587</td>\n",
       "      <td>0.160150</td>\n",
       "      <td>0.007569</td>\n",
       "      <td>0.013431</td>\n",
       "      <td>0.148887</td>\n",
       "      <td>0.024192</td>\n",
       "      <td>0.009210</td>\n",
       "    </tr>\n",
       "    <tr>\n",
       "      <th>4</th>\n",
       "      <td>handle0</td>\n",
       "      <td>handle5</td>\n",
       "      <td>0.064859</td>\n",
       "      <td>0.094407</td>\n",
       "      <td>0.156190</td>\n",
       "      <td>0.101169</td>\n",
       "      <td>0.001894</td>\n",
       "      <td>0.251460</td>\n",
       "      <td>0.047082</td>\n",
       "      <td>0.036849</td>\n",
       "      <td>0.019791</td>\n",
       "    </tr>\n",
       "    <tr>\n",
       "      <th>...</th>\n",
       "      <td>...</td>\n",
       "      <td>...</td>\n",
       "      <td>...</td>\n",
       "      <td>...</td>\n",
       "      <td>...</td>\n",
       "      <td>...</td>\n",
       "      <td>...</td>\n",
       "      <td>...</td>\n",
       "      <td>...</td>\n",
       "      <td>...</td>\n",
       "      <td>...</td>\n",
       "    </tr>\n",
       "    <tr>\n",
       "      <th>11170</th>\n",
       "      <td>handle146</td>\n",
       "      <td>handle148</td>\n",
       "      <td>0.007033</td>\n",
       "      <td>0.127126</td>\n",
       "      <td>0.050061</td>\n",
       "      <td>0.067045</td>\n",
       "      <td>0.198928</td>\n",
       "      <td>0.044668</td>\n",
       "      <td>0.112180</td>\n",
       "      <td>0.039769</td>\n",
       "      <td>0.067137</td>\n",
       "    </tr>\n",
       "    <tr>\n",
       "      <th>11171</th>\n",
       "      <td>handle146</td>\n",
       "      <td>handle149</td>\n",
       "      <td>0.007210</td>\n",
       "      <td>0.061277</td>\n",
       "      <td>0.029318</td>\n",
       "      <td>0.005813</td>\n",
       "      <td>0.077148</td>\n",
       "      <td>0.128250</td>\n",
       "      <td>0.053301</td>\n",
       "      <td>0.142267</td>\n",
       "      <td>0.192761</td>\n",
       "    </tr>\n",
       "    <tr>\n",
       "      <th>11172</th>\n",
       "      <td>handle147</td>\n",
       "      <td>handle148</td>\n",
       "      <td>0.116433</td>\n",
       "      <td>0.115941</td>\n",
       "      <td>0.015028</td>\n",
       "      <td>0.026669</td>\n",
       "      <td>0.362053</td>\n",
       "      <td>0.067057</td>\n",
       "      <td>0.099605</td>\n",
       "      <td>0.237422</td>\n",
       "      <td>0.129649</td>\n",
       "    </tr>\n",
       "    <tr>\n",
       "      <th>11173</th>\n",
       "      <td>handle147</td>\n",
       "      <td>handle149</td>\n",
       "      <td>0.002853</td>\n",
       "      <td>0.026115</td>\n",
       "      <td>0.080706</td>\n",
       "      <td>0.175232</td>\n",
       "      <td>0.131022</td>\n",
       "      <td>0.019728</td>\n",
       "      <td>0.086124</td>\n",
       "      <td>0.338677</td>\n",
       "      <td>0.009738</td>\n",
       "    </tr>\n",
       "    <tr>\n",
       "      <th>11174</th>\n",
       "      <td>handle148</td>\n",
       "      <td>handle149</td>\n",
       "      <td>0.002008</td>\n",
       "      <td>0.023822</td>\n",
       "      <td>0.072802</td>\n",
       "      <td>0.036270</td>\n",
       "      <td>0.053116</td>\n",
       "      <td>0.024069</td>\n",
       "      <td>0.056400</td>\n",
       "      <td>0.003206</td>\n",
       "      <td>0.010759</td>\n",
       "    </tr>\n",
       "  </tbody>\n",
       "</table>\n",
       "<p>11175 rows × 11 columns</p>\n",
       "</div>"
      ],
      "text/plain": [
       "          source     target  net_flow  net_flow_2014  net_flow_2015  \\\n",
       "0        handle0    handle1  0.004030       0.254405       0.042278   \n",
       "1        handle0    handle2  0.073348       0.045604       0.194916   \n",
       "2        handle0    handle3  0.080422       0.359101       0.018787   \n",
       "3        handle0    handle4  0.014711       0.357103       0.018587   \n",
       "4        handle0    handle5  0.064859       0.094407       0.156190   \n",
       "...          ...        ...       ...            ...            ...   \n",
       "11170  handle146  handle148  0.007033       0.127126       0.050061   \n",
       "11171  handle146  handle149  0.007210       0.061277       0.029318   \n",
       "11172  handle147  handle148  0.116433       0.115941       0.015028   \n",
       "11173  handle147  handle149  0.002853       0.026115       0.080706   \n",
       "11174  handle148  handle149  0.002008       0.023822       0.072802   \n",
       "\n",
       "       net_flow_2016  net_flow_2017  net_flow_2018  net_flow_2019  \\\n",
       "0           0.066539       0.104262       0.020424       0.172935   \n",
       "1           0.157744       0.089185       0.007550       0.270217   \n",
       "2           0.025379       0.197707       0.074810       0.019069   \n",
       "3           0.160150       0.007569       0.013431       0.148887   \n",
       "4           0.101169       0.001894       0.251460       0.047082   \n",
       "...              ...            ...            ...            ...   \n",
       "11170       0.067045       0.198928       0.044668       0.112180   \n",
       "11171       0.005813       0.077148       0.128250       0.053301   \n",
       "11172       0.026669       0.362053       0.067057       0.099605   \n",
       "11173       0.175232       0.131022       0.019728       0.086124   \n",
       "11174       0.036270       0.053116       0.024069       0.056400   \n",
       "\n",
       "       net_flow_2020  net_flow_2021  \n",
       "0           0.004668       0.003962  \n",
       "1           0.038404       0.067318  \n",
       "2           0.302948       0.000444  \n",
       "3           0.024192       0.009210  \n",
       "4           0.036849       0.019791  \n",
       "...              ...            ...  \n",
       "11170       0.039769       0.067137  \n",
       "11171       0.142267       0.192761  \n",
       "11172       0.237422       0.129649  \n",
       "11173       0.338677       0.009738  \n",
       "11174       0.003206       0.010759  \n",
       "\n",
       "[11175 rows x 11 columns]"
      ]
     },
     "execution_count": 18,
     "metadata": {},
     "output_type": "execute_result"
    }
   ],
   "source": [
    "# normalise each column in the net flow matrix\n",
    "for col in net_flows.columns[2:]:\n",
    "    net_flows[col] = net_flows[col]/net_flows[col].max()\n",
    "net_flows"
   ]
  },
  {
   "cell_type": "code",
   "execution_count": 20,
   "metadata": {},
   "outputs": [],
   "source": [
    "# add category for each source\n",
    "categories = ['left', 'greens', 'oranges' 'right', 'centre']\n",
    "category_dict = {handle: np.random.choice(categories) for handle in handles}\n",
    "\n",
    "net_flows['source_category'] = net_flows['source'].apply(lambda x: category_dict[x])\n"
   ]
  },
  {
   "cell_type": "code",
   "execution_count": 21,
   "metadata": {},
   "outputs": [],
   "source": [
    "net_flows['target_category'] = net_flows['target'].apply(lambda x: category_dict[x])   "
   ]
  },
  {
   "cell_type": "code",
   "execution_count": 23,
   "metadata": {},
   "outputs": [],
   "source": [
    "# save the sample net flow matrix\n",
    "net_flows.to_csv('sample_net_information_flows.csv', index = False)"
   ]
  },
  {
   "cell_type": "code",
   "execution_count": null,
   "metadata": {},
   "outputs": [],
   "source": [
    "# This dataset is a sample of the net information flows between 150 handles. The net flow is a random number drawn from an exponential distribution. The net flow for each year is a random number drawn from an exponential distribution. The net flow for each year is normalised by the maximum net flow for that year."
   ]
  },
  {
   "cell_type": "code",
   "execution_count": 3,
   "metadata": {},
   "outputs": [
    {
     "data": {
      "text/html": [
       "<div>\n",
       "<style scoped>\n",
       "    .dataframe tbody tr th:only-of-type {\n",
       "        vertical-align: middle;\n",
       "    }\n",
       "\n",
       "    .dataframe tbody tr th {\n",
       "        vertical-align: top;\n",
       "    }\n",
       "\n",
       "    .dataframe thead th {\n",
       "        text-align: right;\n",
       "    }\n",
       "</style>\n",
       "<table border=\"1\" class=\"dataframe\">\n",
       "  <thead>\n",
       "    <tr style=\"text-align: right;\">\n",
       "      <th></th>\n",
       "      <th>source</th>\n",
       "      <th>target</th>\n",
       "      <th>net_flow</th>\n",
       "      <th>net_flow_2014</th>\n",
       "      <th>net_flow_2015</th>\n",
       "      <th>net_flow_2016</th>\n",
       "      <th>net_flow_2017</th>\n",
       "      <th>net_flow_2018</th>\n",
       "      <th>net_flow_2019</th>\n",
       "      <th>net_flow_2020</th>\n",
       "      <th>net_flow_2021</th>\n",
       "    </tr>\n",
       "  </thead>\n",
       "  <tbody>\n",
       "    <tr>\n",
       "      <th>0</th>\n",
       "      <td>left</td>\n",
       "      <td>right</td>\n",
       "      <td>1.000000</td>\n",
       "      <td>0.004351</td>\n",
       "      <td>0.906585</td>\n",
       "      <td>1.000000</td>\n",
       "      <td>0.228546</td>\n",
       "      <td>0.264073</td>\n",
       "      <td>0.223116</td>\n",
       "      <td>0.268152</td>\n",
       "      <td>1.000000</td>\n",
       "    </tr>\n",
       "    <tr>\n",
       "      <th>1</th>\n",
       "      <td>left</td>\n",
       "      <td>centre</td>\n",
       "      <td>0.109211</td>\n",
       "      <td>1.000000</td>\n",
       "      <td>0.657953</td>\n",
       "      <td>0.491612</td>\n",
       "      <td>0.695320</td>\n",
       "      <td>1.000000</td>\n",
       "      <td>0.027330</td>\n",
       "      <td>0.419454</td>\n",
       "      <td>0.360901</td>\n",
       "    </tr>\n",
       "    <tr>\n",
       "      <th>2</th>\n",
       "      <td>right</td>\n",
       "      <td>centre</td>\n",
       "      <td>0.211056</td>\n",
       "      <td>0.071687</td>\n",
       "      <td>1.000000</td>\n",
       "      <td>0.286656</td>\n",
       "      <td>1.000000</td>\n",
       "      <td>0.708119</td>\n",
       "      <td>1.000000</td>\n",
       "      <td>1.000000</td>\n",
       "      <td>0.019804</td>\n",
       "    </tr>\n",
       "  </tbody>\n",
       "</table>\n",
       "</div>"
      ],
      "text/plain": [
       "  source  target  net_flow  net_flow_2014  net_flow_2015  net_flow_2016  \\\n",
       "0   left   right  1.000000       0.004351       0.906585       1.000000   \n",
       "1   left  centre  0.109211       1.000000       0.657953       0.491612   \n",
       "2  right  centre  0.211056       0.071687       1.000000       0.286656   \n",
       "\n",
       "   net_flow_2017  net_flow_2018  net_flow_2019  net_flow_2020  net_flow_2021  \n",
       "0       0.228546       0.264073       0.223116       0.268152       1.000000  \n",
       "1       0.695320       1.000000       0.027330       0.419454       0.360901  \n",
       "2       1.000000       0.708119       1.000000       1.000000       0.019804  "
      ]
     },
     "execution_count": 3,
     "metadata": {},
     "output_type": "execute_result"
    }
   ],
   "source": [
    "# sample data between aggregated groups\n",
    "categories = ['left','right', 'centre']\n",
    "# make a samlpe net flow matrix with the sources and targets as the handles with a random net flow drawn from a exponential distribution\n",
    "choose_2 = list(itertools.combinations(categories, 2))\n",
    "\n",
    "# create net flows\n",
    "net_flows = pd.DataFrame(choose_2, columns = ['source', 'target'])\n",
    "\n",
    "for comb in choose_2:\n",
    "    net_flows.loc[(net_flows['source'] == comb[0]) & (net_flows['target'] == comb[1]), 'net_flow'] = np.random.exponential(1)\n",
    "\n",
    "    # add a flow for each year\n",
    "    for year in range(2014, 2022):\n",
    "        net_flows.loc[(net_flows['source'] == comb[0]) & (net_flows['target'] == comb[1]), f'net_flow_{year}'] = np.random.exponential(0.6)\n",
    "# normalise each column in the net flow matrix\n",
    "for col in net_flows.columns[2:]:\n",
    "    net_flows[col] = net_flows[col]/net_flows[col].max()\n",
    "net_flows"
   ]
  },
  {
   "cell_type": "code",
   "execution_count": 4,
   "metadata": {},
   "outputs": [],
   "source": [
    "# save the sample net flow matrix\n",
    "net_flows.to_csv('sample_aggregated_net_information_flows.csv', index = False)\n",
    "\n",
    "node_sizes_agg = {'category': categories, 'node_size': np.random.exponential(1, len(categories))}"
   ]
  },
  {
   "cell_type": "code",
   "execution_count": 5,
   "metadata": {},
   "outputs": [],
   "source": [
    "import pickle\n",
    "import numpy as np"
   ]
  },
  {
   "cell_type": "code",
   "execution_count": 6,
   "metadata": {},
   "outputs": [],
   "source": [
    "node_sizes_agg = {c : 5*np.random.exponential() for c in categories}"
   ]
  },
  {
   "cell_type": "code",
   "execution_count": 7,
   "metadata": {},
   "outputs": [
    {
     "data": {
      "text/plain": [
       "{'left': 0.8520963439389548,\n",
       " 'right': 9.776799453633581,\n",
       " 'centre': 8.329169086785729}"
      ]
     },
     "execution_count": 7,
     "metadata": {},
     "output_type": "execute_result"
    }
   ],
   "source": [
    "node_sizes_agg"
   ]
  },
  {
   "cell_type": "code",
   "execution_count": 3,
   "metadata": {},
   "outputs": [],
   "source": [
    "with open('supplementary_data/node_sizes.pkl', 'rb') as f:\n",
    "    node_sizes = pickle.load(f)"
   ]
  },
  {
   "cell_type": "code",
   "execution_count": 9,
   "metadata": {},
   "outputs": [],
   "source": [
    "with open('node_sizes_agg.pkl', 'wb') as f:\n",
    "    pickle.dump(node_sizes_agg, f)"
   ]
  },
  {
   "cell_type": "code",
   "execution_count": null,
   "metadata": {},
   "outputs": [],
   "source": []
  }
 ],
 "metadata": {
  "kernelspec": {
   "display_name": "hack",
   "language": "python",
   "name": "python3"
  },
  "language_info": {
   "codemirror_mode": {
    "name": "ipython",
    "version": 3
   },
   "file_extension": ".py",
   "mimetype": "text/x-python",
   "name": "python",
   "nbconvert_exporter": "python",
   "pygments_lexer": "ipython3",
   "version": "3.10.2"
  },
  "orig_nbformat": 4
 },
 "nbformat": 4,
 "nbformat_minor": 2
}
